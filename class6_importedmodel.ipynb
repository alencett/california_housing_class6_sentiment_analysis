{
  "nbformat": 4,
  "nbformat_minor": 0,
  "metadata": {
    "colab": {
      "provenance": []
    },
    "kernelspec": {
      "name": "python3",
      "display_name": "Python 3"
    },
    "language_info": {
      "name": "python"
    }
  },
  "cells": [
    {
      "cell_type": "code",
      "execution_count": 1,
      "metadata": {
        "id": "i7702BheClZZ"
      },
      "outputs": [],
      "source": [
        "import pandas as pd\n",
        "import pickle"
      ]
    },
    {
      "cell_type": "code",
      "source": [
        "new_data={'MedInc':[90000],\n",
        "          'HouseAge':[8],\n",
        "          'AveRooms':[7],\n",
        "          'AveBedrms':[4],\n",
        "          'Population':[5500],\n",
        "          'AveOccup':[3],\n",
        "       'Latitude':[36.4200],\n",
        "          'Longitude':[-120.567]}\n",
        "\n",
        "#convert dictionary to dataframe\n",
        "\n",
        "new_data_df=pd.DataFrame(new_data)"
      ],
      "metadata": {
        "id": "L1R3vJXzD2jA"
      },
      "execution_count": 2,
      "outputs": []
    },
    {
      "cell_type": "code",
      "source": [
        "#now we read the model\n",
        "\n",
        "model=pickle.load(open('/content/cal_model_rf.pkl','rb'))"
      ],
      "metadata": {
        "id": "LdIq-FRLE6uM"
      },
      "execution_count": 3,
      "outputs": []
    },
    {
      "cell_type": "code",
      "source": [
        "model.predict(new_data_df)"
      ],
      "metadata": {
        "colab": {
          "base_uri": "https://localhost:8080/"
        },
        "id": "WvOBSqYgFS-z",
        "outputId": "1aea8901-844e-4b9d-9d1f-10636aba4c81"
      },
      "execution_count": 4,
      "outputs": [
        {
          "output_type": "execute_result",
          "data": {
            "text/plain": [
              "array([95236.])"
            ]
          },
          "metadata": {},
          "execution_count": 4
        }
      ]
    }
  ]
}